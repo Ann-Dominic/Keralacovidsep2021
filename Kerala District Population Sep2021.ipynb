{
 "cells": [
  {
   "cell_type": "code",
   "execution_count": 1,
   "metadata": {},
   "outputs": [],
   "source": [
    "import matplotlib.pyplot as plt\n",
    "import pandas as pd\n",
    "import numpy as np\n",
    "%matplotlib inline\n",
    "import seaborn as sns\n",
    "from scipy import stats\n",
    "from scipy.stats import norm\n",
    "\n",
    "import requests # library to handle requests\n",
    "from bs4 import BeautifulSoup # library to parse HTML documents\n",
    "import warnings\n",
    "warnings.filterwarnings('ignore')\n",
    "from sklearn import preprocessing\n",
    "from sklearn.preprocessing import scale"
   ]
  },
  {
   "cell_type": "code",
   "execution_count": 2,
   "metadata": {},
   "outputs": [],
   "source": [
    "#Districts of kerala and the population\n",
    "Dist =['Alappuzha','Ernakulam','Idukki','Kannur','Kasaragod','Kollam','Kottayam','Kozhikode','Malappuram','Palakkad','Pathanamthitta','Thiruvananthapuram','Thrissur','Wayanad']\n",
    "Pop = [2210134,3409416,1151891,2620643,1357970,2737364,2050966,3205733,4272090,2918678,1243752,3429192,3241990,849054]\n",
    "\n",
    "#Espop list contains population numbers for each country expressed in millions.\n",
    "Espop = []\n",
    "for number in Pop:\n",
    "    Espop.append(number / 1000000)\n",
    "# Create dictionary my_dict with three key\n",
    "kerala = {'District':Dist,'Estimated_Population':Pop ,'pop':Espop}\n",
    "#Create dataframe \n",
    "ker = pd.DataFrame(kerala)"
   ]
  },
  {
   "cell_type": "code",
   "execution_count": 3,
   "metadata": {},
   "outputs": [
    {
     "data": {
      "text/html": [
       "<div>\n",
       "<style scoped>\n",
       "    .dataframe tbody tr th:only-of-type {\n",
       "        vertical-align: middle;\n",
       "    }\n",
       "\n",
       "    .dataframe tbody tr th {\n",
       "        vertical-align: top;\n",
       "    }\n",
       "\n",
       "    .dataframe thead th {\n",
       "        text-align: right;\n",
       "    }\n",
       "</style>\n",
       "<table border=\"1\" class=\"dataframe\">\n",
       "  <thead>\n",
       "    <tr style=\"text-align: right;\">\n",
       "      <th></th>\n",
       "      <th>District</th>\n",
       "      <th>Estimated_Population</th>\n",
       "      <th>pop</th>\n",
       "    </tr>\n",
       "  </thead>\n",
       "  <tbody>\n",
       "    <tr>\n",
       "      <th>0</th>\n",
       "      <td>Alappuzha</td>\n",
       "      <td>2210134</td>\n",
       "      <td>2.210134</td>\n",
       "    </tr>\n",
       "    <tr>\n",
       "      <th>1</th>\n",
       "      <td>Ernakulam</td>\n",
       "      <td>3409416</td>\n",
       "      <td>3.409416</td>\n",
       "    </tr>\n",
       "    <tr>\n",
       "      <th>2</th>\n",
       "      <td>Idukki</td>\n",
       "      <td>1151891</td>\n",
       "      <td>1.151891</td>\n",
       "    </tr>\n",
       "    <tr>\n",
       "      <th>3</th>\n",
       "      <td>Kannur</td>\n",
       "      <td>2620643</td>\n",
       "      <td>2.620643</td>\n",
       "    </tr>\n",
       "    <tr>\n",
       "      <th>4</th>\n",
       "      <td>Kasaragod</td>\n",
       "      <td>1357970</td>\n",
       "      <td>1.357970</td>\n",
       "    </tr>\n",
       "  </tbody>\n",
       "</table>\n",
       "</div>"
      ],
      "text/plain": [
       "    District  Estimated_Population       pop\n",
       "0  Alappuzha               2210134  2.210134\n",
       "1  Ernakulam               3409416  3.409416\n",
       "2     Idukki               1151891  1.151891\n",
       "3     Kannur               2620643  2.620643\n",
       "4  Kasaragod               1357970  1.357970"
      ]
     },
     "execution_count": 3,
     "metadata": {},
     "output_type": "execute_result"
    }
   ],
   "source": [
    "ker.head()"
   ]
  },
  {
   "cell_type": "code",
   "execution_count": 4,
   "metadata": {},
   "outputs": [],
   "source": [
    "np_pop = Espop*2"
   ]
  },
  {
   "cell_type": "code",
   "execution_count": 5,
   "metadata": {},
   "outputs": [],
   "source": [
    "District=['Ernakulam','Kollam','Alappuzha','Thiruvananthapuram','Kottayam','Thrissur','Idukki','Kannur','Kozhikode','Kasaragod','Pathanamthitta','Palakkad','Wayanad','Malappuram']\n",
    "Per_capita_income =[251104,247014,234857,223741,218837,213799,207665,190684,186660,17291,171075,166412,164099,154463]\n"
   ]
  },
  {
   "cell_type": "code",
   "execution_count": 6,
   "metadata": {},
   "outputs": [],
   "source": [
    "#url to wikipedia page\n",
    "url1 = 'https://en.wikipedia.org/wiki/List_of_districts_and_cities_in_Kerala_by_GDP_per_capita'"
   ]
  },
  {
   "cell_type": "code",
   "execution_count": 7,
   "metadata": {},
   "outputs": [
    {
     "data": {
      "text/plain": [
       "<Response [200]>"
      ]
     },
     "execution_count": 7,
     "metadata": {},
     "output_type": "execute_result"
    }
   ],
   "source": [
    "s = requests.Session()\n",
    "response = s.get(url1,timeout=10)\n",
    "response"
   ]
  },
  {
   "cell_type": "code",
   "execution_count": 8,
   "metadata": {},
   "outputs": [
    {
     "data": {
      "text/plain": [
       "'List of districts and cities in Kerala by GDP per capita - Wikipedia'"
      ]
     },
     "execution_count": 8,
     "metadata": {},
     "output_type": "execute_result"
    }
   ],
   "source": [
    "#Get title of page\n",
    "soup = BeautifulSoup(response.text, 'html.parser')\n",
    "soup.title.string"
   ]
  },
  {
   "cell_type": "code",
   "execution_count": 9,
   "metadata": {},
   "outputs": [],
   "source": [
    "#Get tables from wikipiedia page\n",
    "tables = soup.find_all('table',{\"class\":\"wikitable sortable\"})\n"
   ]
  },
  {
   "cell_type": "code",
   "execution_count": 10,
   "metadata": {},
   "outputs": [],
   "source": [
    "#Scrap data \n",
    "c1 =[]\n",
    "c2 =[]\n",
    "c3 =[]\n",
    "for row in tables[1].findAll('tr'):\n",
    "    cells = row.findAll('td')\n",
    "    #print(len(cells))\n",
    "    if len(cells)==3:\n",
    "        #print(cells[3].find(text=True))\n",
    "        \n",
    "        c1.append((cells[0].find(text=True)).strip()) # strip to remove /n from row \n",
    "        c2.append(cells[1].find('a').text)\n",
    "        c3.append((cells[2].find(text=True)).strip()) #strip to remove /n from row \n"
   ]
  },
  {
   "cell_type": "code",
   "execution_count": 11,
   "metadata": {},
   "outputs": [
    {
     "name": "stdout",
     "output_type": "stream",
     "text": [
      "Ernakulam\n"
     ]
    }
   ],
   "source": [
    "print(c2[0])"
   ]
  },
  {
   "cell_type": "code",
   "execution_count": 12,
   "metadata": {},
   "outputs": [],
   "source": [
    "# extract the column names\n",
    "column_names = [item.get_text() for item in tables[1].find_all('th')]\n"
   ]
  },
  {
   "cell_type": "code",
   "execution_count": 13,
   "metadata": {},
   "outputs": [
    {
     "name": "stdout",
     "output_type": "stream",
     "text": [
      "['Rank\\n', 'District\\n', 'Per capita income in Rs.\\n']\n"
     ]
    }
   ],
   "source": [
    "print(column_names)"
   ]
  },
  {
   "cell_type": "code",
   "execution_count": 14,
   "metadata": {},
   "outputs": [
    {
     "name": "stdout",
     "output_type": "stream",
     "text": [
      "['Rank', 'District', 'Per capita income in Rs.']\n"
     ]
    }
   ],
   "source": [
    "#Remove \\n\n",
    "header = [elem.strip() for elem in column_names]\n",
    "print(header)"
   ]
  },
  {
   "cell_type": "code",
   "execution_count": 15,
   "metadata": {},
   "outputs": [
    {
     "data": {
      "text/plain": [
       "{'Rank': 0, 'District': 0, 'Per capita income in Rs.': 0}"
      ]
     },
     "execution_count": 15,
     "metadata": {},
     "output_type": "execute_result"
    }
   ],
   "source": [
    "#Create a dictionary\n",
    "d = dict([(x,0)for x in header])\n",
    "d"
   ]
  },
  {
   "cell_type": "code",
   "execution_count": 16,
   "metadata": {},
   "outputs": [],
   "source": [
    "d['Rank'] =c1\n",
    "d['District'] = c2\n",
    "d['Per capita income in Rs.']=c3"
   ]
  },
  {
   "cell_type": "code",
   "execution_count": 17,
   "metadata": {},
   "outputs": [],
   "source": [
    "df = pd.DataFrame(d)"
   ]
  },
  {
   "cell_type": "code",
   "execution_count": 18,
   "metadata": {},
   "outputs": [
    {
     "data": {
      "text/html": [
       "<div>\n",
       "<style scoped>\n",
       "    .dataframe tbody tr th:only-of-type {\n",
       "        vertical-align: middle;\n",
       "    }\n",
       "\n",
       "    .dataframe tbody tr th {\n",
       "        vertical-align: top;\n",
       "    }\n",
       "\n",
       "    .dataframe thead th {\n",
       "        text-align: right;\n",
       "    }\n",
       "</style>\n",
       "<table border=\"1\" class=\"dataframe\">\n",
       "  <thead>\n",
       "    <tr style=\"text-align: right;\">\n",
       "      <th></th>\n",
       "      <th>Rank</th>\n",
       "      <th>District</th>\n",
       "      <th>Per capita income in Rs.</th>\n",
       "    </tr>\n",
       "  </thead>\n",
       "  <tbody>\n",
       "    <tr>\n",
       "      <th>0</th>\n",
       "      <td>1</td>\n",
       "      <td>Ernakulam</td>\n",
       "      <td>251,104</td>\n",
       "    </tr>\n",
       "    <tr>\n",
       "      <th>1</th>\n",
       "      <td>2</td>\n",
       "      <td>Kollam</td>\n",
       "      <td>247,014</td>\n",
       "    </tr>\n",
       "    <tr>\n",
       "      <th>2</th>\n",
       "      <td>3</td>\n",
       "      <td>Alappuzha</td>\n",
       "      <td>234,857</td>\n",
       "    </tr>\n",
       "    <tr>\n",
       "      <th>3</th>\n",
       "      <td>4</td>\n",
       "      <td>Thiruvananthapuram</td>\n",
       "      <td>223,741</td>\n",
       "    </tr>\n",
       "    <tr>\n",
       "      <th>4</th>\n",
       "      <td>5</td>\n",
       "      <td>Kottayam</td>\n",
       "      <td>218,837</td>\n",
       "    </tr>\n",
       "    <tr>\n",
       "      <th>5</th>\n",
       "      <td>6</td>\n",
       "      <td>Thrissur</td>\n",
       "      <td>213,799</td>\n",
       "    </tr>\n",
       "    <tr>\n",
       "      <th>6</th>\n",
       "      <td>7</td>\n",
       "      <td>Idukki</td>\n",
       "      <td>207,665</td>\n",
       "    </tr>\n",
       "    <tr>\n",
       "      <th>7</th>\n",
       "      <td>8</td>\n",
       "      <td>Kannur</td>\n",
       "      <td>190,684</td>\n",
       "    </tr>\n",
       "    <tr>\n",
       "      <th>8</th>\n",
       "      <td>9</td>\n",
       "      <td>Kozhikode</td>\n",
       "      <td>186,660</td>\n",
       "    </tr>\n",
       "    <tr>\n",
       "      <th>9</th>\n",
       "      <td>10</td>\n",
       "      <td>Kasaragod</td>\n",
       "      <td>172,691</td>\n",
       "    </tr>\n",
       "    <tr>\n",
       "      <th>10</th>\n",
       "      <td>11</td>\n",
       "      <td>Pathanamthitta</td>\n",
       "      <td>171,075</td>\n",
       "    </tr>\n",
       "    <tr>\n",
       "      <th>11</th>\n",
       "      <td>12</td>\n",
       "      <td>Palakkad</td>\n",
       "      <td>166,412</td>\n",
       "    </tr>\n",
       "    <tr>\n",
       "      <th>12</th>\n",
       "      <td>13</td>\n",
       "      <td>Wayanad</td>\n",
       "      <td>164,099</td>\n",
       "    </tr>\n",
       "    <tr>\n",
       "      <th>13</th>\n",
       "      <td>14</td>\n",
       "      <td>Malappuram</td>\n",
       "      <td>154,463</td>\n",
       "    </tr>\n",
       "  </tbody>\n",
       "</table>\n",
       "</div>"
      ],
      "text/plain": [
       "   Rank            District Per capita income in Rs.\n",
       "0     1           Ernakulam                  251,104\n",
       "1     2              Kollam                  247,014\n",
       "2     3           Alappuzha                  234,857\n",
       "3     4  Thiruvananthapuram                  223,741\n",
       "4     5            Kottayam                  218,837\n",
       "5     6            Thrissur                  213,799\n",
       "6     7              Idukki                  207,665\n",
       "7     8              Kannur                  190,684\n",
       "8     9           Kozhikode                  186,660\n",
       "9    10           Kasaragod                  172,691\n",
       "10   11      Pathanamthitta                  171,075\n",
       "11   12            Palakkad                  166,412\n",
       "12   13             Wayanad                  164,099\n",
       "13   14          Malappuram                  154,463"
      ]
     },
     "execution_count": 18,
     "metadata": {},
     "output_type": "execute_result"
    }
   ],
   "source": [
    "df.head(15)"
   ]
  },
  {
   "cell_type": "code",
   "execution_count": 19,
   "metadata": {},
   "outputs": [],
   "source": [
    "#https://dashboard.kerala.gov.in/covid/dailyreporting-view-public-districtwise.php\n",
    "\n",
    "Covid_Confirmed =[298986,554452,130250,133134,495715,365235,256683,297042,546143,355253,176434,483598,421571,115392]\n",
    "District=['Alappuzha','Ernakulam','Idukki','Kasaragod','Kozhikode','Kollam','Kannur','Kottayam','Malappuram','Palakkad','Pathanamthitta','Thrissur','Thiruvananthapuram','Wayanad']\n",
    "kerala_covid = {'District':District,'Covid_Cases':Covid_Confirmed}\n",
    "df2 = pd.DataFrame(kerala_covid)"
   ]
  },
  {
   "cell_type": "code",
   "execution_count": 20,
   "metadata": {},
   "outputs": [
    {
     "data": {
      "text/html": [
       "<div>\n",
       "<style scoped>\n",
       "    .dataframe tbody tr th:only-of-type {\n",
       "        vertical-align: middle;\n",
       "    }\n",
       "\n",
       "    .dataframe tbody tr th {\n",
       "        vertical-align: top;\n",
       "    }\n",
       "\n",
       "    .dataframe thead th {\n",
       "        text-align: right;\n",
       "    }\n",
       "</style>\n",
       "<table border=\"1\" class=\"dataframe\">\n",
       "  <thead>\n",
       "    <tr style=\"text-align: right;\">\n",
       "      <th></th>\n",
       "      <th>District</th>\n",
       "      <th>Covid_Cases</th>\n",
       "    </tr>\n",
       "  </thead>\n",
       "  <tbody>\n",
       "    <tr>\n",
       "      <th>0</th>\n",
       "      <td>Alappuzha</td>\n",
       "      <td>298986</td>\n",
       "    </tr>\n",
       "    <tr>\n",
       "      <th>1</th>\n",
       "      <td>Ernakulam</td>\n",
       "      <td>554452</td>\n",
       "    </tr>\n",
       "    <tr>\n",
       "      <th>2</th>\n",
       "      <td>Idukki</td>\n",
       "      <td>130250</td>\n",
       "    </tr>\n",
       "    <tr>\n",
       "      <th>3</th>\n",
       "      <td>Kasaragod</td>\n",
       "      <td>133134</td>\n",
       "    </tr>\n",
       "    <tr>\n",
       "      <th>4</th>\n",
       "      <td>Kozhikode</td>\n",
       "      <td>495715</td>\n",
       "    </tr>\n",
       "    <tr>\n",
       "      <th>5</th>\n",
       "      <td>Kollam</td>\n",
       "      <td>365235</td>\n",
       "    </tr>\n",
       "    <tr>\n",
       "      <th>6</th>\n",
       "      <td>Kannur</td>\n",
       "      <td>256683</td>\n",
       "    </tr>\n",
       "    <tr>\n",
       "      <th>7</th>\n",
       "      <td>Kottayam</td>\n",
       "      <td>297042</td>\n",
       "    </tr>\n",
       "    <tr>\n",
       "      <th>8</th>\n",
       "      <td>Malappuram</td>\n",
       "      <td>546143</td>\n",
       "    </tr>\n",
       "    <tr>\n",
       "      <th>9</th>\n",
       "      <td>Palakkad</td>\n",
       "      <td>355253</td>\n",
       "    </tr>\n",
       "    <tr>\n",
       "      <th>10</th>\n",
       "      <td>Pathanamthitta</td>\n",
       "      <td>176434</td>\n",
       "    </tr>\n",
       "    <tr>\n",
       "      <th>11</th>\n",
       "      <td>Thrissur</td>\n",
       "      <td>483598</td>\n",
       "    </tr>\n",
       "    <tr>\n",
       "      <th>12</th>\n",
       "      <td>Thiruvananthapuram</td>\n",
       "      <td>421571</td>\n",
       "    </tr>\n",
       "    <tr>\n",
       "      <th>13</th>\n",
       "      <td>Wayanad</td>\n",
       "      <td>115392</td>\n",
       "    </tr>\n",
       "  </tbody>\n",
       "</table>\n",
       "</div>"
      ],
      "text/plain": [
       "              District  Covid_Cases\n",
       "0            Alappuzha       298986\n",
       "1            Ernakulam       554452\n",
       "2               Idukki       130250\n",
       "3            Kasaragod       133134\n",
       "4            Kozhikode       495715\n",
       "5               Kollam       365235\n",
       "6               Kannur       256683\n",
       "7             Kottayam       297042\n",
       "8           Malappuram       546143\n",
       "9             Palakkad       355253\n",
       "10      Pathanamthitta       176434\n",
       "11            Thrissur       483598\n",
       "12  Thiruvananthapuram       421571\n",
       "13             Wayanad       115392"
      ]
     },
     "execution_count": 20,
     "metadata": {},
     "output_type": "execute_result"
    }
   ],
   "source": [
    "df2.head(15)"
   ]
  },
  {
   "cell_type": "code",
   "execution_count": 21,
   "metadata": {},
   "outputs": [],
   "source": [
    "#Merge both data frames \n",
    "data = pd.merge(df, df2, on ='District')"
   ]
  },
  {
   "cell_type": "code",
   "execution_count": 22,
   "metadata": {},
   "outputs": [],
   "source": [
    "data = pd.merge(data,ker,on ='District')"
   ]
  },
  {
   "cell_type": "code",
   "execution_count": 23,
   "metadata": {},
   "outputs": [
    {
     "data": {
      "text/html": [
       "<div>\n",
       "<style scoped>\n",
       "    .dataframe tbody tr th:only-of-type {\n",
       "        vertical-align: middle;\n",
       "    }\n",
       "\n",
       "    .dataframe tbody tr th {\n",
       "        vertical-align: top;\n",
       "    }\n",
       "\n",
       "    .dataframe thead th {\n",
       "        text-align: right;\n",
       "    }\n",
       "</style>\n",
       "<table border=\"1\" class=\"dataframe\">\n",
       "  <thead>\n",
       "    <tr style=\"text-align: right;\">\n",
       "      <th></th>\n",
       "      <th>Rank</th>\n",
       "      <th>District</th>\n",
       "      <th>Per capita income in Rs.</th>\n",
       "      <th>Covid_Cases</th>\n",
       "      <th>Estimated_Population</th>\n",
       "      <th>pop</th>\n",
       "    </tr>\n",
       "  </thead>\n",
       "  <tbody>\n",
       "    <tr>\n",
       "      <th>0</th>\n",
       "      <td>1</td>\n",
       "      <td>Ernakulam</td>\n",
       "      <td>251,104</td>\n",
       "      <td>554452</td>\n",
       "      <td>3409416</td>\n",
       "      <td>3.409416</td>\n",
       "    </tr>\n",
       "    <tr>\n",
       "      <th>1</th>\n",
       "      <td>2</td>\n",
       "      <td>Kollam</td>\n",
       "      <td>247,014</td>\n",
       "      <td>365235</td>\n",
       "      <td>2737364</td>\n",
       "      <td>2.737364</td>\n",
       "    </tr>\n",
       "    <tr>\n",
       "      <th>2</th>\n",
       "      <td>3</td>\n",
       "      <td>Alappuzha</td>\n",
       "      <td>234,857</td>\n",
       "      <td>298986</td>\n",
       "      <td>2210134</td>\n",
       "      <td>2.210134</td>\n",
       "    </tr>\n",
       "    <tr>\n",
       "      <th>3</th>\n",
       "      <td>4</td>\n",
       "      <td>Thiruvananthapuram</td>\n",
       "      <td>223,741</td>\n",
       "      <td>421571</td>\n",
       "      <td>3429192</td>\n",
       "      <td>3.429192</td>\n",
       "    </tr>\n",
       "    <tr>\n",
       "      <th>4</th>\n",
       "      <td>5</td>\n",
       "      <td>Kottayam</td>\n",
       "      <td>218,837</td>\n",
       "      <td>297042</td>\n",
       "      <td>2050966</td>\n",
       "      <td>2.050966</td>\n",
       "    </tr>\n",
       "    <tr>\n",
       "      <th>5</th>\n",
       "      <td>6</td>\n",
       "      <td>Thrissur</td>\n",
       "      <td>213,799</td>\n",
       "      <td>483598</td>\n",
       "      <td>3241990</td>\n",
       "      <td>3.241990</td>\n",
       "    </tr>\n",
       "    <tr>\n",
       "      <th>6</th>\n",
       "      <td>7</td>\n",
       "      <td>Idukki</td>\n",
       "      <td>207,665</td>\n",
       "      <td>130250</td>\n",
       "      <td>1151891</td>\n",
       "      <td>1.151891</td>\n",
       "    </tr>\n",
       "    <tr>\n",
       "      <th>7</th>\n",
       "      <td>8</td>\n",
       "      <td>Kannur</td>\n",
       "      <td>190,684</td>\n",
       "      <td>256683</td>\n",
       "      <td>2620643</td>\n",
       "      <td>2.620643</td>\n",
       "    </tr>\n",
       "    <tr>\n",
       "      <th>8</th>\n",
       "      <td>9</td>\n",
       "      <td>Kozhikode</td>\n",
       "      <td>186,660</td>\n",
       "      <td>495715</td>\n",
       "      <td>3205733</td>\n",
       "      <td>3.205733</td>\n",
       "    </tr>\n",
       "    <tr>\n",
       "      <th>9</th>\n",
       "      <td>10</td>\n",
       "      <td>Kasaragod</td>\n",
       "      <td>172,691</td>\n",
       "      <td>133134</td>\n",
       "      <td>1357970</td>\n",
       "      <td>1.357970</td>\n",
       "    </tr>\n",
       "    <tr>\n",
       "      <th>10</th>\n",
       "      <td>11</td>\n",
       "      <td>Pathanamthitta</td>\n",
       "      <td>171,075</td>\n",
       "      <td>176434</td>\n",
       "      <td>1243752</td>\n",
       "      <td>1.243752</td>\n",
       "    </tr>\n",
       "    <tr>\n",
       "      <th>11</th>\n",
       "      <td>12</td>\n",
       "      <td>Palakkad</td>\n",
       "      <td>166,412</td>\n",
       "      <td>355253</td>\n",
       "      <td>2918678</td>\n",
       "      <td>2.918678</td>\n",
       "    </tr>\n",
       "    <tr>\n",
       "      <th>12</th>\n",
       "      <td>13</td>\n",
       "      <td>Wayanad</td>\n",
       "      <td>164,099</td>\n",
       "      <td>115392</td>\n",
       "      <td>849054</td>\n",
       "      <td>0.849054</td>\n",
       "    </tr>\n",
       "    <tr>\n",
       "      <th>13</th>\n",
       "      <td>14</td>\n",
       "      <td>Malappuram</td>\n",
       "      <td>154,463</td>\n",
       "      <td>546143</td>\n",
       "      <td>4272090</td>\n",
       "      <td>4.272090</td>\n",
       "    </tr>\n",
       "  </tbody>\n",
       "</table>\n",
       "</div>"
      ],
      "text/plain": [
       "   Rank            District Per capita income in Rs.  Covid_Cases  \\\n",
       "0     1           Ernakulam                  251,104       554452   \n",
       "1     2              Kollam                  247,014       365235   \n",
       "2     3           Alappuzha                  234,857       298986   \n",
       "3     4  Thiruvananthapuram                  223,741       421571   \n",
       "4     5            Kottayam                  218,837       297042   \n",
       "5     6            Thrissur                  213,799       483598   \n",
       "6     7              Idukki                  207,665       130250   \n",
       "7     8              Kannur                  190,684       256683   \n",
       "8     9           Kozhikode                  186,660       495715   \n",
       "9    10           Kasaragod                  172,691       133134   \n",
       "10   11      Pathanamthitta                  171,075       176434   \n",
       "11   12            Palakkad                  166,412       355253   \n",
       "12   13             Wayanad                  164,099       115392   \n",
       "13   14          Malappuram                  154,463       546143   \n",
       "\n",
       "    Estimated_Population       pop  \n",
       "0                3409416  3.409416  \n",
       "1                2737364  2.737364  \n",
       "2                2210134  2.210134  \n",
       "3                3429192  3.429192  \n",
       "4                2050966  2.050966  \n",
       "5                3241990  3.241990  \n",
       "6                1151891  1.151891  \n",
       "7                2620643  2.620643  \n",
       "8                3205733  3.205733  \n",
       "9                1357970  1.357970  \n",
       "10               1243752  1.243752  \n",
       "11               2918678  2.918678  \n",
       "12                849054  0.849054  \n",
       "13               4272090  4.272090  "
      ]
     },
     "execution_count": 23,
     "metadata": {},
     "output_type": "execute_result"
    }
   ],
   "source": [
    "data.head(15)"
   ]
  },
  {
   "cell_type": "code",
   "execution_count": 24,
   "metadata": {},
   "outputs": [],
   "source": [
    "data.rename(columns = {'Per capita income in Rs.':'PerCapIncome'}, inplace = True)"
   ]
  },
  {
   "cell_type": "code",
   "execution_count": 25,
   "metadata": {},
   "outputs": [
    {
     "data": {
      "text/plain": [
       "Rank                     object\n",
       "District                 object\n",
       "PerCapIncome             object\n",
       "Covid_Cases               int64\n",
       "Estimated_Population      int64\n",
       "pop                     float64\n",
       "dtype: object"
      ]
     },
     "execution_count": 25,
     "metadata": {},
     "output_type": "execute_result"
    }
   ],
   "source": [
    "data.dtypes"
   ]
  },
  {
   "cell_type": "markdown",
   "metadata": {},
   "source": [
    "# EDA on Covid cases and population"
   ]
  },
  {
   "cell_type": "code",
   "execution_count": 26,
   "metadata": {},
   "outputs": [
    {
     "data": {
      "text/plain": [
       "<AxesSubplot:xlabel='Covid_Cases', ylabel='District'>"
      ]
     },
     "execution_count": 26,
     "metadata": {},
     "output_type": "execute_result"
    },
    {
     "data": {
      "image/png": "[encoded data removed]",
      "text/plain": [
       "<Figure size 432x288 with 1 Axes>"
      ]
     },
     "metadata": {
      "needs_background": "light"
     },
     "output_type": "display_data"
    }
   ],
   "source": [
    "sns.barplot(x=data.Covid_Cases, y=data.District)\n"
   ]
  },
  {
   "cell_type": "code",
   "execution_count": 27,
   "metadata": {},
   "outputs": [
    {
     "data": {
      "text/plain": [
       "<AxesSubplot:xlabel='Estimated_Population', ylabel='District'>"
      ]
     },
     "execution_count": 27,
     "metadata": {},
     "output_type": "execute_result"
    },
    {
     "data": {
      "image/png": "[encoded data removed]",
      "text/plain": [
       "<Figure size 432x288 with 1 Axes>"
      ]
     },
     "metadata": {
      "needs_background": "light"
     },
     "output_type": "display_data"
    }
   ],
   "source": [
    "sns.barplot(x=data.Estimated_Population, y=data.District)"
   ]
  },
  {
   "cell_type": "code",
   "execution_count": 28,
   "metadata": {},
   "outputs": [
    {
     "data": {
      "image/png": "[encoded data removed]",
      "text/plain": [
       "<Figure size 432x288 with 1 Axes>"
      ]
     },
     "metadata": {
      "needs_background": "light"
     },
     "output_type": "display_data"
    }
   ],
   "source": [
    "#plt.plot(data.District,data.Covid_Cases)\n",
    "plt.plot(data.Covid_Cases,data.District,label=\"Covid cases\",marker='o')\n",
    "plt.plot(data.Estimated_Population,data.District,label=\"Population\",marker='s')\n",
    "plt.legend()\n",
    "plt.show()"
   ]
  },
  {
   "cell_type": "code",
   "execution_count": 29,
   "metadata": {},
   "outputs": [
    {
     "data": {
      "image/png": "[encoded data removed]",
      "text/plain": [
       "<Figure size 432x288 with 1 Axes>"
      ]
     },
     "metadata": {
      "needs_background": "light"
     },
     "output_type": "display_data"
    }
   ],
   "source": [
    "#plt.rcParams[\"figure.figsize\"] = (25,3)\n",
    "plt.bar(data.District,data.Estimated_Population,label=\"Population\")\n",
    "plt.bar(data.District,data.Covid_Cases,bottom=data.Estimated_Population,label =\"Covidcases\")\n",
    "plt.legend()\n",
    "plt.show()"
   ]
  },
  {
   "cell_type": "code",
   "execution_count": 30,
   "metadata": {},
   "outputs": [],
   "source": [
    "#Add column to find the percentage of covid cases with population\n",
    "data['CasesbyPop']= data['Covid_Cases']/data['Estimated_Population']"
   ]
  },
  {
   "cell_type": "code",
   "execution_count": 31,
   "metadata": {},
   "outputs": [
    {
     "data": {
      "text/plain": [
       "<AxesSubplot:xlabel='CasesbyPop', ylabel='District'>"
      ]
     },
     "execution_count": 31,
     "metadata": {},
     "output_type": "execute_result"
    },
    {
     "data": {
      "image/png": "[encoded data removed]",
      "text/plain": [
       "<Figure size 432x288 with 1 Axes>"
      ]
     },
     "metadata": {
      "needs_background": "light"
     },
     "output_type": "display_data"
    }
   ],
   "source": [
    "sns.barplot(x=data.CasesbyPop, y=data.District)"
   ]
  },
  {
   "cell_type": "code",
   "execution_count": 32,
   "metadata": {},
   "outputs": [
    {
     "data": {
      "text/plain": [
       "<AxesSubplot:xlabel='District', ylabel='CasesbyPop'>"
      ]
     },
     "execution_count": 32,
     "metadata": {},
     "output_type": "execute_result"
    },
    {
     "data": {
      "image/png": "[encoded data removed]",
      "text/plain": [
       "<Figure size 432x288 with 1 Axes>"
      ]
     },
     "metadata": {
      "needs_background": "light"
     },
     "output_type": "display_data"
    }
   ],
   "source": [
    "sns.barplot(x=data.District, y=data.CasesbyPop)"
   ]
  },
  {
   "cell_type": "code",
   "execution_count": 33,
   "metadata": {},
   "outputs": [],
   "source": [
    "data = data.sort_values('CasesbyPop',ascending=False)"
   ]
  },
  {
   "cell_type": "code",
   "execution_count": 34,
   "metadata": {},
   "outputs": [
    {
     "data": {
      "text/plain": [
       "Text(0.5, 1.0, 'Covid Spread Percentage in Kerala Sep2021')"
      ]
     },
     "execution_count": 34,
     "metadata": {},
     "output_type": "execute_result"
    },
    {
     "data": {
      "image/png": "[encoded data removed]",
      "text/plain": [
       "<Figure size 432x288 with 1 Axes>"
      ]
     },
     "metadata": {
      "needs_background": "light"
     },
     "output_type": "display_data"
    }
   ],
   "source": [
    "sns.barplot(x=data.CasesbyPop, y=data.District)\n",
    "\n",
    "plt.title(\"Covid Spread Percentage in Kerala Sep2021\")"
   ]
  },
  {
   "cell_type": "code",
   "execution_count": 35,
   "metadata": {},
   "outputs": [
    {
     "data": {
      "text/html": [
       "<div>\n",
       "<style scoped>\n",
       "    .dataframe tbody tr th:only-of-type {\n",
       "        vertical-align: middle;\n",
       "    }\n",
       "\n",
       "    .dataframe tbody tr th {\n",
       "        vertical-align: top;\n",
       "    }\n",
       "\n",
       "    .dataframe thead th {\n",
       "        text-align: right;\n",
       "    }\n",
       "</style>\n",
       "<table border=\"1\" class=\"dataframe\">\n",
       "  <thead>\n",
       "    <tr style=\"text-align: right;\">\n",
       "      <th></th>\n",
       "      <th>Rank</th>\n",
       "      <th>District</th>\n",
       "      <th>PerCapIncome</th>\n",
       "      <th>Covid_Cases</th>\n",
       "      <th>Estimated_Population</th>\n",
       "      <th>pop</th>\n",
       "      <th>CasesbyPop</th>\n",
       "    </tr>\n",
       "  </thead>\n",
       "  <tbody>\n",
       "    <tr>\n",
       "      <th>0</th>\n",
       "      <td>1</td>\n",
       "      <td>Ernakulam</td>\n",
       "      <td>251,104</td>\n",
       "      <td>554452</td>\n",
       "      <td>3409416</td>\n",
       "      <td>3.409416</td>\n",
       "      <td>0.162624</td>\n",
       "    </tr>\n",
       "    <tr>\n",
       "      <th>8</th>\n",
       "      <td>9</td>\n",
       "      <td>Kozhikode</td>\n",
       "      <td>186,660</td>\n",
       "      <td>495715</td>\n",
       "      <td>3205733</td>\n",
       "      <td>3.205733</td>\n",
       "      <td>0.154634</td>\n",
       "    </tr>\n",
       "    <tr>\n",
       "      <th>5</th>\n",
       "      <td>6</td>\n",
       "      <td>Thrissur</td>\n",
       "      <td>213,799</td>\n",
       "      <td>483598</td>\n",
       "      <td>3241990</td>\n",
       "      <td>3.241990</td>\n",
       "      <td>0.149167</td>\n",
       "    </tr>\n",
       "    <tr>\n",
       "      <th>4</th>\n",
       "      <td>5</td>\n",
       "      <td>Kottayam</td>\n",
       "      <td>218,837</td>\n",
       "      <td>297042</td>\n",
       "      <td>2050966</td>\n",
       "      <td>2.050966</td>\n",
       "      <td>0.144830</td>\n",
       "    </tr>\n",
       "    <tr>\n",
       "      <th>10</th>\n",
       "      <td>11</td>\n",
       "      <td>Pathanamthitta</td>\n",
       "      <td>171,075</td>\n",
       "      <td>176434</td>\n",
       "      <td>1243752</td>\n",
       "      <td>1.243752</td>\n",
       "      <td>0.141856</td>\n",
       "    </tr>\n",
       "    <tr>\n",
       "      <th>12</th>\n",
       "      <td>13</td>\n",
       "      <td>Wayanad</td>\n",
       "      <td>164,099</td>\n",
       "      <td>115392</td>\n",
       "      <td>849054</td>\n",
       "      <td>0.849054</td>\n",
       "      <td>0.135907</td>\n",
       "    </tr>\n",
       "    <tr>\n",
       "      <th>2</th>\n",
       "      <td>3</td>\n",
       "      <td>Alappuzha</td>\n",
       "      <td>234,857</td>\n",
       "      <td>298986</td>\n",
       "      <td>2210134</td>\n",
       "      <td>2.210134</td>\n",
       "      <td>0.135280</td>\n",
       "    </tr>\n",
       "    <tr>\n",
       "      <th>1</th>\n",
       "      <td>2</td>\n",
       "      <td>Kollam</td>\n",
       "      <td>247,014</td>\n",
       "      <td>365235</td>\n",
       "      <td>2737364</td>\n",
       "      <td>2.737364</td>\n",
       "      <td>0.133426</td>\n",
       "    </tr>\n",
       "    <tr>\n",
       "      <th>13</th>\n",
       "      <td>14</td>\n",
       "      <td>Malappuram</td>\n",
       "      <td>154,463</td>\n",
       "      <td>546143</td>\n",
       "      <td>4272090</td>\n",
       "      <td>4.272090</td>\n",
       "      <td>0.127840</td>\n",
       "    </tr>\n",
       "    <tr>\n",
       "      <th>3</th>\n",
       "      <td>4</td>\n",
       "      <td>Thiruvananthapuram</td>\n",
       "      <td>223,741</td>\n",
       "      <td>421571</td>\n",
       "      <td>3429192</td>\n",
       "      <td>3.429192</td>\n",
       "      <td>0.122936</td>\n",
       "    </tr>\n",
       "    <tr>\n",
       "      <th>11</th>\n",
       "      <td>12</td>\n",
       "      <td>Palakkad</td>\n",
       "      <td>166,412</td>\n",
       "      <td>355253</td>\n",
       "      <td>2918678</td>\n",
       "      <td>2.918678</td>\n",
       "      <td>0.121717</td>\n",
       "    </tr>\n",
       "    <tr>\n",
       "      <th>6</th>\n",
       "      <td>7</td>\n",
       "      <td>Idukki</td>\n",
       "      <td>207,665</td>\n",
       "      <td>130250</td>\n",
       "      <td>1151891</td>\n",
       "      <td>1.151891</td>\n",
       "      <td>0.113075</td>\n",
       "    </tr>\n",
       "    <tr>\n",
       "      <th>9</th>\n",
       "      <td>10</td>\n",
       "      <td>Kasaragod</td>\n",
       "      <td>172,691</td>\n",
       "      <td>133134</td>\n",
       "      <td>1357970</td>\n",
       "      <td>1.357970</td>\n",
       "      <td>0.098039</td>\n",
       "    </tr>\n",
       "    <tr>\n",
       "      <th>7</th>\n",
       "      <td>8</td>\n",
       "      <td>Kannur</td>\n",
       "      <td>190,684</td>\n",
       "      <td>256683</td>\n",
       "      <td>2620643</td>\n",
       "      <td>2.620643</td>\n",
       "      <td>0.097947</td>\n",
       "    </tr>\n",
       "  </tbody>\n",
       "</table>\n",
       "</div>"
      ],
      "text/plain": [
       "   Rank            District PerCapIncome  Covid_Cases  Estimated_Population  \\\n",
       "0     1           Ernakulam      251,104       554452               3409416   \n",
       "8     9           Kozhikode      186,660       495715               3205733   \n",
       "5     6            Thrissur      213,799       483598               3241990   \n",
       "4     5            Kottayam      218,837       297042               2050966   \n",
       "10   11      Pathanamthitta      171,075       176434               1243752   \n",
       "12   13             Wayanad      164,099       115392                849054   \n",
       "2     3           Alappuzha      234,857       298986               2210134   \n",
       "1     2              Kollam      247,014       365235               2737364   \n",
       "13   14          Malappuram      154,463       546143               4272090   \n",
       "3     4  Thiruvananthapuram      223,741       421571               3429192   \n",
       "11   12            Palakkad      166,412       355253               2918678   \n",
       "6     7              Idukki      207,665       130250               1151891   \n",
       "9    10           Kasaragod      172,691       133134               1357970   \n",
       "7     8              Kannur      190,684       256683               2620643   \n",
       "\n",
       "         pop  CasesbyPop  \n",
       "0   3.409416    0.162624  \n",
       "8   3.205733    0.154634  \n",
       "5   3.241990    0.149167  \n",
       "4   2.050966    0.144830  \n",
       "10  1.243752    0.141856  \n",
       "12  0.849054    0.135907  \n",
       "2   2.210134    0.135280  \n",
       "1   2.737364    0.133426  \n",
       "13  4.272090    0.127840  \n",
       "3   3.429192    0.122936  \n",
       "11  2.918678    0.121717  \n",
       "6   1.151891    0.113075  \n",
       "9   1.357970    0.098039  \n",
       "7   2.620643    0.097947  "
      ]
     },
     "execution_count": 35,
     "metadata": {},
     "output_type": "execute_result"
    }
   ],
   "source": [
    "data.head(15)"
   ]
  },
  {
   "cell_type": "code",
   "execution_count": 36,
   "metadata": {},
   "outputs": [
    {
     "data": {
      "text/html": [
       "<div>\n",
       "<style scoped>\n",
       "    .dataframe tbody tr th:only-of-type {\n",
       "        vertical-align: middle;\n",
       "    }\n",
       "\n",
       "    .dataframe tbody tr th {\n",
       "        vertical-align: top;\n",
       "    }\n",
       "\n",
       "    .dataframe thead th {\n",
       "        text-align: right;\n",
       "    }\n",
       "</style>\n",
       "<table border=\"1\" class=\"dataframe\">\n",
       "  <thead>\n",
       "    <tr style=\"text-align: right;\">\n",
       "      <th></th>\n",
       "      <th>Rank</th>\n",
       "      <th>District</th>\n",
       "      <th>PerCapIncome</th>\n",
       "      <th>Covid_Cases</th>\n",
       "      <th>Estimated_Population</th>\n",
       "      <th>pop</th>\n",
       "      <th>CasesbyPop</th>\n",
       "    </tr>\n",
       "  </thead>\n",
       "  <tbody>\n",
       "    <tr>\n",
       "      <th>13</th>\n",
       "      <td>14</td>\n",
       "      <td>Malappuram</td>\n",
       "      <td>154,463</td>\n",
       "      <td>546143</td>\n",
       "      <td>4272090</td>\n",
       "      <td>4.272090</td>\n",
       "      <td>0.127840</td>\n",
       "    </tr>\n",
       "    <tr>\n",
       "      <th>12</th>\n",
       "      <td>13</td>\n",
       "      <td>Wayanad</td>\n",
       "      <td>164,099</td>\n",
       "      <td>115392</td>\n",
       "      <td>849054</td>\n",
       "      <td>0.849054</td>\n",
       "      <td>0.135907</td>\n",
       "    </tr>\n",
       "    <tr>\n",
       "      <th>11</th>\n",
       "      <td>12</td>\n",
       "      <td>Palakkad</td>\n",
       "      <td>166,412</td>\n",
       "      <td>355253</td>\n",
       "      <td>2918678</td>\n",
       "      <td>2.918678</td>\n",
       "      <td>0.121717</td>\n",
       "    </tr>\n",
       "    <tr>\n",
       "      <th>10</th>\n",
       "      <td>11</td>\n",
       "      <td>Pathanamthitta</td>\n",
       "      <td>171,075</td>\n",
       "      <td>176434</td>\n",
       "      <td>1243752</td>\n",
       "      <td>1.243752</td>\n",
       "      <td>0.141856</td>\n",
       "    </tr>\n",
       "    <tr>\n",
       "      <th>9</th>\n",
       "      <td>10</td>\n",
       "      <td>Kasaragod</td>\n",
       "      <td>172,691</td>\n",
       "      <td>133134</td>\n",
       "      <td>1357970</td>\n",
       "      <td>1.357970</td>\n",
       "      <td>0.098039</td>\n",
       "    </tr>\n",
       "    <tr>\n",
       "      <th>8</th>\n",
       "      <td>9</td>\n",
       "      <td>Kozhikode</td>\n",
       "      <td>186,660</td>\n",
       "      <td>495715</td>\n",
       "      <td>3205733</td>\n",
       "      <td>3.205733</td>\n",
       "      <td>0.154634</td>\n",
       "    </tr>\n",
       "    <tr>\n",
       "      <th>7</th>\n",
       "      <td>8</td>\n",
       "      <td>Kannur</td>\n",
       "      <td>190,684</td>\n",
       "      <td>256683</td>\n",
       "      <td>2620643</td>\n",
       "      <td>2.620643</td>\n",
       "      <td>0.097947</td>\n",
       "    </tr>\n",
       "    <tr>\n",
       "      <th>6</th>\n",
       "      <td>7</td>\n",
       "      <td>Idukki</td>\n",
       "      <td>207,665</td>\n",
       "      <td>130250</td>\n",
       "      <td>1151891</td>\n",
       "      <td>1.151891</td>\n",
       "      <td>0.113075</td>\n",
       "    </tr>\n",
       "    <tr>\n",
       "      <th>5</th>\n",
       "      <td>6</td>\n",
       "      <td>Thrissur</td>\n",
       "      <td>213,799</td>\n",
       "      <td>483598</td>\n",
       "      <td>3241990</td>\n",
       "      <td>3.241990</td>\n",
       "      <td>0.149167</td>\n",
       "    </tr>\n",
       "    <tr>\n",
       "      <th>4</th>\n",
       "      <td>5</td>\n",
       "      <td>Kottayam</td>\n",
       "      <td>218,837</td>\n",
       "      <td>297042</td>\n",
       "      <td>2050966</td>\n",
       "      <td>2.050966</td>\n",
       "      <td>0.144830</td>\n",
       "    </tr>\n",
       "    <tr>\n",
       "      <th>3</th>\n",
       "      <td>4</td>\n",
       "      <td>Thiruvananthapuram</td>\n",
       "      <td>223,741</td>\n",
       "      <td>421571</td>\n",
       "      <td>3429192</td>\n",
       "      <td>3.429192</td>\n",
       "      <td>0.122936</td>\n",
       "    </tr>\n",
       "    <tr>\n",
       "      <th>2</th>\n",
       "      <td>3</td>\n",
       "      <td>Alappuzha</td>\n",
       "      <td>234,857</td>\n",
       "      <td>298986</td>\n",
       "      <td>2210134</td>\n",
       "      <td>2.210134</td>\n",
       "      <td>0.135280</td>\n",
       "    </tr>\n",
       "    <tr>\n",
       "      <th>1</th>\n",
       "      <td>2</td>\n",
       "      <td>Kollam</td>\n",
       "      <td>247,014</td>\n",
       "      <td>365235</td>\n",
       "      <td>2737364</td>\n",
       "      <td>2.737364</td>\n",
       "      <td>0.133426</td>\n",
       "    </tr>\n",
       "    <tr>\n",
       "      <th>0</th>\n",
       "      <td>1</td>\n",
       "      <td>Ernakulam</td>\n",
       "      <td>251,104</td>\n",
       "      <td>554452</td>\n",
       "      <td>3409416</td>\n",
       "      <td>3.409416</td>\n",
       "      <td>0.162624</td>\n",
       "    </tr>\n",
       "  </tbody>\n",
       "</table>\n",
       "</div>"
      ],
      "text/plain": [
       "   Rank            District PerCapIncome  Covid_Cases  Estimated_Population  \\\n",
       "13   14          Malappuram      154,463       546143               4272090   \n",
       "12   13             Wayanad      164,099       115392                849054   \n",
       "11   12            Palakkad      166,412       355253               2918678   \n",
       "10   11      Pathanamthitta      171,075       176434               1243752   \n",
       "9    10           Kasaragod      172,691       133134               1357970   \n",
       "8     9           Kozhikode      186,660       495715               3205733   \n",
       "7     8              Kannur      190,684       256683               2620643   \n",
       "6     7              Idukki      207,665       130250               1151891   \n",
       "5     6            Thrissur      213,799       483598               3241990   \n",
       "4     5            Kottayam      218,837       297042               2050966   \n",
       "3     4  Thiruvananthapuram      223,741       421571               3429192   \n",
       "2     3           Alappuzha      234,857       298986               2210134   \n",
       "1     2              Kollam      247,014       365235               2737364   \n",
       "0     1           Ernakulam      251,104       554452               3409416   \n",
       "\n",
       "         pop  CasesbyPop  \n",
       "13  4.272090    0.127840  \n",
       "12  0.849054    0.135907  \n",
       "11  2.918678    0.121717  \n",
       "10  1.243752    0.141856  \n",
       "9   1.357970    0.098039  \n",
       "8   3.205733    0.154634  \n",
       "7   2.620643    0.097947  \n",
       "6   1.151891    0.113075  \n",
       "5   3.241990    0.149167  \n",
       "4   2.050966    0.144830  \n",
       "3   3.429192    0.122936  \n",
       "2   2.210134    0.135280  \n",
       "1   2.737364    0.133426  \n",
       "0   3.409416    0.162624  "
      ]
     },
     "execution_count": 36,
     "metadata": {},
     "output_type": "execute_result"
    }
   ],
   "source": [
    "data.sort_values(['PerCapIncome','Covid_Cases','Estimated_Population'])"
   ]
  },
  {
   "cell_type": "markdown",
   "metadata": {},
   "source": [
    "### Remove comma from PerCapIncome and change the data type to int"
   ]
  },
  {
   "cell_type": "code",
   "execution_count": 37,
   "metadata": {},
   "outputs": [],
   "source": [
    "data.replace(',','', regex=True, inplace=True)"
   ]
  },
  {
   "cell_type": "code",
   "execution_count": 38,
   "metadata": {},
   "outputs": [
    {
     "data": {
      "text/plain": [
       "Rank                     object\n",
       "District                 object\n",
       "PerCapIncome             object\n",
       "Covid_Cases               int64\n",
       "Estimated_Population      int64\n",
       "pop                     float64\n",
       "CasesbyPop              float64\n",
       "dtype: object"
      ]
     },
     "execution_count": 38,
     "metadata": {},
     "output_type": "execute_result"
    }
   ],
   "source": [
    "data.dtypes"
   ]
  },
  {
   "cell_type": "code",
   "execution_count": 39,
   "metadata": {},
   "outputs": [],
   "source": [
    "#Change data type to int\n",
    "data['PerCapIncome'] = data['PerCapIncome'].astype(int)"
   ]
  },
  {
   "cell_type": "code",
   "execution_count": 40,
   "metadata": {},
   "outputs": [
    {
     "data": {
      "text/plain": [
       "Rank                     object\n",
       "District                 object\n",
       "PerCapIncome              int32\n",
       "Covid_Cases               int64\n",
       "Estimated_Population      int64\n",
       "pop                     float64\n",
       "CasesbyPop              float64\n",
       "dtype: object"
      ]
     },
     "execution_count": 40,
     "metadata": {},
     "output_type": "execute_result"
    }
   ],
   "source": [
    "data.dtypes"
   ]
  },
  {
   "cell_type": "code",
   "execution_count": 41,
   "metadata": {},
   "outputs": [],
   "source": [
    "#Add colors by creating a dictionarry\n",
    "d= {\n",
    "    'Alappuzha':'red','Ernakulam':'black','Idukki':'blue','Kannur':'yellow','Kasaragod':'purple','Kozhikode':'cyan',\n",
    "    'Kollam':'olive','Kannur':'brown','Kottayam':'green','Malappuram':'gray','Palakkad':'magenta','Pathanamthitta':'navy',\n",
    "    'Thrissur':'lime','Thiruvananthapuram':'gold','Wayanad':'coral'\n",
    "}\n",
    "# Add column col with appropriate color mapping to cont\n",
    "data['color'] = data['District'].map(d)"
   ]
  },
  {
   "cell_type": "code",
   "execution_count": 42,
   "metadata": {},
   "outputs": [
    {
     "data": {
      "text/html": [
       "<div>\n",
       "<style scoped>\n",
       "    .dataframe tbody tr th:only-of-type {\n",
       "        vertical-align: middle;\n",
       "    }\n",
       "\n",
       "    .dataframe tbody tr th {\n",
       "        vertical-align: top;\n",
       "    }\n",
       "\n",
       "    .dataframe thead th {\n",
       "        text-align: right;\n",
       "    }\n",
       "</style>\n",
       "<table border=\"1\" class=\"dataframe\">\n",
       "  <thead>\n",
       "    <tr style=\"text-align: right;\">\n",
       "      <th></th>\n",
       "      <th>Rank</th>\n",
       "      <th>District</th>\n",
       "      <th>PerCapIncome</th>\n",
       "      <th>Covid_Cases</th>\n",
       "      <th>Estimated_Population</th>\n",
       "      <th>pop</th>\n",
       "      <th>CasesbyPop</th>\n",
       "      <th>color</th>\n",
       "    </tr>\n",
       "  </thead>\n",
       "  <tbody>\n",
       "    <tr>\n",
       "      <th>0</th>\n",
       "      <td>1</td>\n",
       "      <td>Ernakulam</td>\n",
       "      <td>251104</td>\n",
       "      <td>554452</td>\n",
       "      <td>3409416</td>\n",
       "      <td>3.409416</td>\n",
       "      <td>0.162624</td>\n",
       "      <td>black</td>\n",
       "    </tr>\n",
       "    <tr>\n",
       "      <th>8</th>\n",
       "      <td>9</td>\n",
       "      <td>Kozhikode</td>\n",
       "      <td>186660</td>\n",
       "      <td>495715</td>\n",
       "      <td>3205733</td>\n",
       "      <td>3.205733</td>\n",
       "      <td>0.154634</td>\n",
       "      <td>cyan</td>\n",
       "    </tr>\n",
       "    <tr>\n",
       "      <th>5</th>\n",
       "      <td>6</td>\n",
       "      <td>Thrissur</td>\n",
       "      <td>213799</td>\n",
       "      <td>483598</td>\n",
       "      <td>3241990</td>\n",
       "      <td>3.241990</td>\n",
       "      <td>0.149167</td>\n",
       "      <td>lime</td>\n",
       "    </tr>\n",
       "    <tr>\n",
       "      <th>4</th>\n",
       "      <td>5</td>\n",
       "      <td>Kottayam</td>\n",
       "      <td>218837</td>\n",
       "      <td>297042</td>\n",
       "      <td>2050966</td>\n",
       "      <td>2.050966</td>\n",
       "      <td>0.144830</td>\n",
       "      <td>green</td>\n",
       "    </tr>\n",
       "    <tr>\n",
       "      <th>10</th>\n",
       "      <td>11</td>\n",
       "      <td>Pathanamthitta</td>\n",
       "      <td>171075</td>\n",
       "      <td>176434</td>\n",
       "      <td>1243752</td>\n",
       "      <td>1.243752</td>\n",
       "      <td>0.141856</td>\n",
       "      <td>navy</td>\n",
       "    </tr>\n",
       "  </tbody>\n",
       "</table>\n",
       "</div>"
      ],
      "text/plain": [
       "   Rank        District  PerCapIncome  Covid_Cases  Estimated_Population  \\\n",
       "0     1       Ernakulam        251104       554452               3409416   \n",
       "8     9       Kozhikode        186660       495715               3205733   \n",
       "5     6        Thrissur        213799       483598               3241990   \n",
       "4     5        Kottayam        218837       297042               2050966   \n",
       "10   11  Pathanamthitta        171075       176434               1243752   \n",
       "\n",
       "         pop  CasesbyPop  color  \n",
       "0   3.409416    0.162624  black  \n",
       "8   3.205733    0.154634   cyan  \n",
       "5   3.241990    0.149167   lime  \n",
       "4   2.050966    0.144830  green  \n",
       "10  1.243752    0.141856   navy  "
      ]
     },
     "execution_count": 42,
     "metadata": {},
     "output_type": "execute_result"
    }
   ],
   "source": [
    "data.head()"
   ]
  },
  {
   "cell_type": "code",
   "execution_count": 47,
   "metadata": {},
   "outputs": [
    {
     "data": {
      "text/plain": [
       "Text(0.5, 1.0, 'Covid cases in kerala ')"
      ]
     },
     "execution_count": 47,
     "metadata": {},
     "output_type": "execute_result"
    },
    {
     "data": {
      "image/png": "[encoded data removed]",
      "text/plain": [
       "<Figure size 720x216 with 1 Axes>"
      ]
     },
     "metadata": {
      "needs_background": "light"
     },
     "output_type": "display_data"
    }
   ],
   "source": [
    "import matplotlib.colors as mcolors\n",
    "# Specify c and alpha inside plt.scatter()\n",
    "plt.rcParams[\"figure.figsize\"] = (10,3)\n",
    "np_pop = data['pop']\n",
    "np_pop = np_pop*100\n",
    "plt.scatter(x = data['CasesbyPop'], y = data.Covid_Cases,s =np_pop,c=data.color)\n",
    "plt.xscale('log')\n",
    "plt.xlabel('Per Capital Income in Rupees')\n",
    "plt.ylabel('No of covid cases')\n",
    "plt.title('Covid cases in kerala ')\n"
   ]
  },
  {
   "cell_type": "code",
   "execution_count": 44,
   "metadata": {},
   "outputs": [
    {
     "data": {
      "image/png": "[encoded data removed]",
      "text/plain": [
       "<Figure size 720x216 with 1 Axes>"
      ]
     },
     "metadata": {
      "needs_background": "light"
     },
     "output_type": "display_data"
    }
   ],
   "source": [
    "scatter = plt.scatter(x = data.Estimated_Population, y = data.Covid_Cases,s =np_pop,c=data.color)\n",
    "plt.legend(*scatter.legend_elements())\n",
    "\n",
    "plt.xlabel('Estimated population 2021')\n",
    "plt.ylabel('No of covid cases sep 2021')\n",
    "plt.show()"
   ]
  },
  {
   "cell_type": "code",
   "execution_count": 48,
   "metadata": {},
   "outputs": [],
   "source": [
    " #Find a correlation matric for gdp  ,population to covid cases\n",
    "col = data[['PerCapIncome','Covid_Cases','Estimated_Population']]"
   ]
  },
  {
   "cell_type": "code",
   "execution_count": 49,
   "metadata": {},
   "outputs": [],
   "source": [
    "col1 = ['PerCapIncome','Covid_Cases','Estimated_Population']"
   ]
  },
  {
   "cell_type": "code",
   "execution_count": 50,
   "metadata": {},
   "outputs": [],
   "source": [
    "#min max scale , default range is between o to 1\n",
    "scaled = preprocessing.MinMaxScaler()"
   ]
  },
  {
   "cell_type": "code",
   "execution_count": 51,
   "metadata": {},
   "outputs": [],
   "source": [
    "scaled_data = scaled.fit_transform(col)"
   ]
  },
  {
   "cell_type": "code",
   "execution_count": 52,
   "metadata": {},
   "outputs": [],
   "source": [
    "scaled_data = pd.DataFrame(scaled_data , columns =['PerCapIncome','Covid_Cases','Estimated_Population'])"
   ]
  },
  {
   "cell_type": "code",
   "execution_count": 53,
   "metadata": {},
   "outputs": [
    {
     "data": {
      "text/html": [
       "<div>\n",
       "<style scoped>\n",
       "    .dataframe tbody tr th:only-of-type {\n",
       "        vertical-align: middle;\n",
       "    }\n",
       "\n",
       "    .dataframe tbody tr th {\n",
       "        vertical-align: top;\n",
       "    }\n",
       "\n",
       "    .dataframe thead th {\n",
       "        text-align: right;\n",
       "    }\n",
       "</style>\n",
       "<table border=\"1\" class=\"dataframe\">\n",
       "  <thead>\n",
       "    <tr style=\"text-align: right;\">\n",
       "      <th></th>\n",
       "      <th>PerCapIncome</th>\n",
       "      <th>Covid_Cases</th>\n",
       "      <th>Estimated_Population</th>\n",
       "    </tr>\n",
       "  </thead>\n",
       "  <tbody>\n",
       "    <tr>\n",
       "      <th>0</th>\n",
       "      <td>1.000000</td>\n",
       "      <td>1.000000</td>\n",
       "      <td>0.747980</td>\n",
       "    </tr>\n",
       "    <tr>\n",
       "      <th>1</th>\n",
       "      <td>0.333161</td>\n",
       "      <td>0.866221</td>\n",
       "      <td>0.688476</td>\n",
       "    </tr>\n",
       "    <tr>\n",
       "      <th>2</th>\n",
       "      <td>0.613984</td>\n",
       "      <td>0.838623</td>\n",
       "      <td>0.699068</td>\n",
       "    </tr>\n",
       "    <tr>\n",
       "      <th>3</th>\n",
       "      <td>0.666115</td>\n",
       "      <td>0.413725</td>\n",
       "      <td>0.351125</td>\n",
       "    </tr>\n",
       "    <tr>\n",
       "      <th>4</th>\n",
       "      <td>0.171894</td>\n",
       "      <td>0.139029</td>\n",
       "      <td>0.115306</td>\n",
       "    </tr>\n",
       "  </tbody>\n",
       "</table>\n",
       "</div>"
      ],
      "text/plain": [
       "   PerCapIncome  Covid_Cases  Estimated_Population\n",
       "0      1.000000     1.000000              0.747980\n",
       "1      0.333161     0.866221              0.688476\n",
       "2      0.613984     0.838623              0.699068\n",
       "3      0.666115     0.413725              0.351125\n",
       "4      0.171894     0.139029              0.115306"
      ]
     },
     "execution_count": 53,
     "metadata": {},
     "output_type": "execute_result"
    }
   ],
   "source": [
    "scaled_data.head()"
   ]
  },
  {
   "cell_type": "code",
   "execution_count": 54,
   "metadata": {},
   "outputs": [],
   "source": [
    "#Correlation matrix \n",
    "correlation = scaled_data.corr()"
   ]
  },
  {
   "cell_type": "code",
   "execution_count": 55,
   "metadata": {},
   "outputs": [
    {
     "data": {
      "text/plain": [
       "Covid_Cases             100.000000\n",
       "Estimated_Population     94.926599\n",
       "PerCapIncome             29.882410\n",
       "Name: Covid_Cases, dtype: float64"
      ]
     },
     "execution_count": 55,
     "metadata": {},
     "output_type": "execute_result"
    }
   ],
   "source": [
    "correlation[\"Covid_Cases\"].sort_values(ascending=False)*100"
   ]
  },
  {
   "cell_type": "code",
   "execution_count": 56,
   "metadata": {},
   "outputs": [
    {
     "data": {
      "text/plain": [
       "PerCapIncome            100.000000\n",
       "Covid_Cases              29.882410\n",
       "Estimated_Population     19.087288\n",
       "Name: PerCapIncome, dtype: float64"
      ]
     },
     "execution_count": 56,
     "metadata": {},
     "output_type": "execute_result"
    }
   ],
   "source": [
    "correlation[\"PerCapIncome\"].sort_values(ascending=False)*100"
   ]
  },
  {
   "cell_type": "code",
   "execution_count": 58,
   "metadata": {},
   "outputs": [
    {
     "data": {
      "text/plain": [
       "<AxesSubplot:title={'center':'Correlation of Population and Percapital income with covid cases'}>"
      ]
     },
     "execution_count": 58,
     "metadata": {},
     "output_type": "execute_result"
    },
    {
     "data": {
      "image/png": "[encoded data removed]",
      "text/plain": [
       "<Figure size 720x720 with 2 Axes>"
      ]
     },
     "metadata": {
      "needs_background": "light"
     },
     "output_type": "display_data"
    }
   ],
   "source": [
    "plt.figure(figsize=(10,10))\n",
    "plt.title(\"Correlation of Population and Percapital income with covid cases\", y=1, size=15)\n",
    "sns.heatmap(correlation ,annot=True,square= True,cmap='viridis', vmax=1 ,linewidths=.5)"
   ]
  },
  {
   "cell_type": "code",
   "execution_count": null,
   "metadata": {},
   "outputs": [],
   "source": []
  }
 ],
 "metadata": {
  "kernelspec": {
   "display_name": "Python 3",
   "language": "python",
   "name": "python3"
  },
  "language_info": {
   "codemirror_mode": {
    "name": "ipython",
    "version": 3
   },
   "file_extension": ".py",
   "mimetype": "text/x-python",
   "name": "python",
   "nbconvert_exporter": "python",
   "pygments_lexer": "ipython3",
   "version": "3.8.5"
  }
 },
 "nbformat": 4,
 "nbformat_minor": 4
}
